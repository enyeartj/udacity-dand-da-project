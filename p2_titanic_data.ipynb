{
 "cells": [
  {
   "cell_type": "markdown",
   "metadata": {},
   "source": [
    "# P2: Investigate a Dataset\n",
    "## Titanic Data\n",
    "\n",
    "For my second project, I have decided to analyze the Titanic data from [Kaggle](https://www.kaggle.com/c/titanic/data). Brainstorming for questions to ask about the data, I came up with the following questions to look further into:\n",
    "\n",
    "* Were passengers more or less likely to survive depending on\n",
    "  * Age\n",
    "  * Gender\n",
    "  * Passenger class"
   ]
  },
  {
   "cell_type": "code",
   "execution_count": 1,
   "metadata": {
    "collapsed": false
   },
   "outputs": [
    {
     "name": "stdout",
     "output_type": "stream",
     "text": [
      "Populating the interactive namespace from numpy and matplotlib\n"
     ]
    },
    {
     "data": {
      "text/html": [
       "<div>\n",
       "<table border=\"1\" class=\"dataframe\">\n",
       "  <thead>\n",
       "    <tr style=\"text-align: right;\">\n",
       "      <th></th>\n",
       "      <th>PassengerId</th>\n",
       "      <th>Survived</th>\n",
       "      <th>Pclass</th>\n",
       "      <th>Age</th>\n",
       "      <th>SibSp</th>\n",
       "      <th>Parch</th>\n",
       "      <th>Fare</th>\n",
       "    </tr>\n",
       "  </thead>\n",
       "  <tbody>\n",
       "    <tr>\n",
       "      <th>count</th>\n",
       "      <td>891.000000</td>\n",
       "      <td>891.000000</td>\n",
       "      <td>891.000000</td>\n",
       "      <td>714.000000</td>\n",
       "      <td>891.000000</td>\n",
       "      <td>891.000000</td>\n",
       "      <td>891.000000</td>\n",
       "    </tr>\n",
       "    <tr>\n",
       "      <th>mean</th>\n",
       "      <td>446.000000</td>\n",
       "      <td>0.383838</td>\n",
       "      <td>2.308642</td>\n",
       "      <td>29.699118</td>\n",
       "      <td>0.523008</td>\n",
       "      <td>0.381594</td>\n",
       "      <td>32.204208</td>\n",
       "    </tr>\n",
       "    <tr>\n",
       "      <th>std</th>\n",
       "      <td>257.353842</td>\n",
       "      <td>0.486592</td>\n",
       "      <td>0.836071</td>\n",
       "      <td>14.526497</td>\n",
       "      <td>1.102743</td>\n",
       "      <td>0.806057</td>\n",
       "      <td>49.693429</td>\n",
       "    </tr>\n",
       "    <tr>\n",
       "      <th>min</th>\n",
       "      <td>1.000000</td>\n",
       "      <td>0.000000</td>\n",
       "      <td>1.000000</td>\n",
       "      <td>0.420000</td>\n",
       "      <td>0.000000</td>\n",
       "      <td>0.000000</td>\n",
       "      <td>0.000000</td>\n",
       "    </tr>\n",
       "    <tr>\n",
       "      <th>25%</th>\n",
       "      <td>223.500000</td>\n",
       "      <td>0.000000</td>\n",
       "      <td>2.000000</td>\n",
       "      <td>20.125000</td>\n",
       "      <td>0.000000</td>\n",
       "      <td>0.000000</td>\n",
       "      <td>7.910400</td>\n",
       "    </tr>\n",
       "    <tr>\n",
       "      <th>50%</th>\n",
       "      <td>446.000000</td>\n",
       "      <td>0.000000</td>\n",
       "      <td>3.000000</td>\n",
       "      <td>28.000000</td>\n",
       "      <td>0.000000</td>\n",
       "      <td>0.000000</td>\n",
       "      <td>14.454200</td>\n",
       "    </tr>\n",
       "    <tr>\n",
       "      <th>75%</th>\n",
       "      <td>668.500000</td>\n",
       "      <td>1.000000</td>\n",
       "      <td>3.000000</td>\n",
       "      <td>38.000000</td>\n",
       "      <td>1.000000</td>\n",
       "      <td>0.000000</td>\n",
       "      <td>31.000000</td>\n",
       "    </tr>\n",
       "    <tr>\n",
       "      <th>max</th>\n",
       "      <td>891.000000</td>\n",
       "      <td>1.000000</td>\n",
       "      <td>3.000000</td>\n",
       "      <td>80.000000</td>\n",
       "      <td>8.000000</td>\n",
       "      <td>6.000000</td>\n",
       "      <td>512.329200</td>\n",
       "    </tr>\n",
       "  </tbody>\n",
       "</table>\n",
       "</div>"
      ],
      "text/plain": [
       "       PassengerId    Survived      Pclass         Age       SibSp  \\\n",
       "count   891.000000  891.000000  891.000000  714.000000  891.000000   \n",
       "mean    446.000000    0.383838    2.308642   29.699118    0.523008   \n",
       "std     257.353842    0.486592    0.836071   14.526497    1.102743   \n",
       "min       1.000000    0.000000    1.000000    0.420000    0.000000   \n",
       "25%     223.500000    0.000000    2.000000   20.125000    0.000000   \n",
       "50%     446.000000    0.000000    3.000000   28.000000    0.000000   \n",
       "75%     668.500000    1.000000    3.000000   38.000000    1.000000   \n",
       "max     891.000000    1.000000    3.000000   80.000000    8.000000   \n",
       "\n",
       "            Parch        Fare  \n",
       "count  891.000000  891.000000  \n",
       "mean     0.381594   32.204208  \n",
       "std      0.806057   49.693429  \n",
       "min      0.000000    0.000000  \n",
       "25%      0.000000    7.910400  \n",
       "50%      0.000000   14.454200  \n",
       "75%      0.000000   31.000000  \n",
       "max      6.000000  512.329200  "
      ]
     },
     "execution_count": 1,
     "metadata": {},
     "output_type": "execute_result"
    }
   ],
   "source": [
    "import pandas as pd\n",
    "import numpy as np\n",
    "%pylab inline\n",
    "import seaborn as sns\n",
    "import matplotlib.pyplot as plt\n",
    "\n",
    "# Read in the data\n",
    "titanic_data = pd.read_csv('titanic_data.csv')\n",
    "\n",
    "# Get some basic statistics on the data\n",
    "titanic_data.describe()"
   ]
  },
  {
   "cell_type": "markdown",
   "metadata": {},
   "source": [
    "Right off the bat we can see a few things:\n",
    "* There are only ages listed for 714 of 891 passengers in the data set\n",
    "* 75% of the passengers with age listed were under the age of 38, and the mean age overall was 29.7\n",
    "* 38% of the passengers survived\n",
    "* 75% passengers paid \\$31 or less for the fare\n",
    "* The largest fare was \\$512.33"
   ]
  },
  {
   "cell_type": "markdown",
   "metadata": {
    "collapsed": true
   },
   "source": [
    "## Survival Based On:\n",
    "### Age\n",
    "The first question was whether age had any relation to survival. For example, were children and elderly more likely to survive?\n",
    "\n",
    "First, here are some descriptive statistics:"
   ]
  },
  {
   "cell_type": "code",
   "execution_count": 2,
   "metadata": {
    "collapsed": false
   },
   "outputs": [
    {
     "data": {
      "text/html": [
       "<div>\n",
       "<table border=\"1\" class=\"dataframe\">\n",
       "  <thead>\n",
       "    <tr style=\"text-align: right;\">\n",
       "      <th></th>\n",
       "      <th></th>\n",
       "      <th>Age</th>\n",
       "      <th>Fare</th>\n",
       "      <th>Parch</th>\n",
       "      <th>PassengerId</th>\n",
       "      <th>Pclass</th>\n",
       "      <th>SibSp</th>\n",
       "    </tr>\n",
       "    <tr>\n",
       "      <th>Survived</th>\n",
       "      <th></th>\n",
       "      <th></th>\n",
       "      <th></th>\n",
       "      <th></th>\n",
       "      <th></th>\n",
       "      <th></th>\n",
       "      <th></th>\n",
       "    </tr>\n",
       "  </thead>\n",
       "  <tbody>\n",
       "    <tr>\n",
       "      <th rowspan=\"8\" valign=\"top\">0</th>\n",
       "      <th>count</th>\n",
       "      <td>424.000000</td>\n",
       "      <td>549.000000</td>\n",
       "      <td>549.000000</td>\n",
       "      <td>549.000000</td>\n",
       "      <td>549.000000</td>\n",
       "      <td>549.000000</td>\n",
       "    </tr>\n",
       "    <tr>\n",
       "      <th>mean</th>\n",
       "      <td>30.626179</td>\n",
       "      <td>22.117887</td>\n",
       "      <td>0.329690</td>\n",
       "      <td>447.016393</td>\n",
       "      <td>2.531876</td>\n",
       "      <td>0.553734</td>\n",
       "    </tr>\n",
       "    <tr>\n",
       "      <th>std</th>\n",
       "      <td>14.172110</td>\n",
       "      <td>31.388207</td>\n",
       "      <td>0.823166</td>\n",
       "      <td>260.640469</td>\n",
       "      <td>0.735805</td>\n",
       "      <td>1.288399</td>\n",
       "    </tr>\n",
       "    <tr>\n",
       "      <th>min</th>\n",
       "      <td>1.000000</td>\n",
       "      <td>0.000000</td>\n",
       "      <td>0.000000</td>\n",
       "      <td>1.000000</td>\n",
       "      <td>1.000000</td>\n",
       "      <td>0.000000</td>\n",
       "    </tr>\n",
       "    <tr>\n",
       "      <th>25%</th>\n",
       "      <td>21.000000</td>\n",
       "      <td>7.854200</td>\n",
       "      <td>0.000000</td>\n",
       "      <td>211.000000</td>\n",
       "      <td>2.000000</td>\n",
       "      <td>0.000000</td>\n",
       "    </tr>\n",
       "    <tr>\n",
       "      <th>50%</th>\n",
       "      <td>28.000000</td>\n",
       "      <td>10.500000</td>\n",
       "      <td>0.000000</td>\n",
       "      <td>455.000000</td>\n",
       "      <td>3.000000</td>\n",
       "      <td>0.000000</td>\n",
       "    </tr>\n",
       "    <tr>\n",
       "      <th>75%</th>\n",
       "      <td>39.000000</td>\n",
       "      <td>26.000000</td>\n",
       "      <td>0.000000</td>\n",
       "      <td>675.000000</td>\n",
       "      <td>3.000000</td>\n",
       "      <td>1.000000</td>\n",
       "    </tr>\n",
       "    <tr>\n",
       "      <th>max</th>\n",
       "      <td>74.000000</td>\n",
       "      <td>263.000000</td>\n",
       "      <td>6.000000</td>\n",
       "      <td>891.000000</td>\n",
       "      <td>3.000000</td>\n",
       "      <td>8.000000</td>\n",
       "    </tr>\n",
       "    <tr>\n",
       "      <th rowspan=\"8\" valign=\"top\">1</th>\n",
       "      <th>count</th>\n",
       "      <td>290.000000</td>\n",
       "      <td>342.000000</td>\n",
       "      <td>342.000000</td>\n",
       "      <td>342.000000</td>\n",
       "      <td>342.000000</td>\n",
       "      <td>342.000000</td>\n",
       "    </tr>\n",
       "    <tr>\n",
       "      <th>mean</th>\n",
       "      <td>28.343690</td>\n",
       "      <td>48.395408</td>\n",
       "      <td>0.464912</td>\n",
       "      <td>444.368421</td>\n",
       "      <td>1.950292</td>\n",
       "      <td>0.473684</td>\n",
       "    </tr>\n",
       "    <tr>\n",
       "      <th>std</th>\n",
       "      <td>14.950952</td>\n",
       "      <td>66.596998</td>\n",
       "      <td>0.771712</td>\n",
       "      <td>252.358840</td>\n",
       "      <td>0.863321</td>\n",
       "      <td>0.708688</td>\n",
       "    </tr>\n",
       "    <tr>\n",
       "      <th>min</th>\n",
       "      <td>0.420000</td>\n",
       "      <td>0.000000</td>\n",
       "      <td>0.000000</td>\n",
       "      <td>2.000000</td>\n",
       "      <td>1.000000</td>\n",
       "      <td>0.000000</td>\n",
       "    </tr>\n",
       "    <tr>\n",
       "      <th>25%</th>\n",
       "      <td>19.000000</td>\n",
       "      <td>12.475000</td>\n",
       "      <td>0.000000</td>\n",
       "      <td>250.750000</td>\n",
       "      <td>1.000000</td>\n",
       "      <td>0.000000</td>\n",
       "    </tr>\n",
       "    <tr>\n",
       "      <th>50%</th>\n",
       "      <td>28.000000</td>\n",
       "      <td>26.000000</td>\n",
       "      <td>0.000000</td>\n",
       "      <td>439.500000</td>\n",
       "      <td>2.000000</td>\n",
       "      <td>0.000000</td>\n",
       "    </tr>\n",
       "    <tr>\n",
       "      <th>75%</th>\n",
       "      <td>36.000000</td>\n",
       "      <td>57.000000</td>\n",
       "      <td>1.000000</td>\n",
       "      <td>651.500000</td>\n",
       "      <td>3.000000</td>\n",
       "      <td>1.000000</td>\n",
       "    </tr>\n",
       "    <tr>\n",
       "      <th>max</th>\n",
       "      <td>80.000000</td>\n",
       "      <td>512.329200</td>\n",
       "      <td>5.000000</td>\n",
       "      <td>890.000000</td>\n",
       "      <td>3.000000</td>\n",
       "      <td>4.000000</td>\n",
       "    </tr>\n",
       "  </tbody>\n",
       "</table>\n",
       "</div>"
      ],
      "text/plain": [
       "                       Age        Fare       Parch  PassengerId      Pclass  \\\n",
       "Survived                                                                      \n",
       "0        count  424.000000  549.000000  549.000000   549.000000  549.000000   \n",
       "         mean    30.626179   22.117887    0.329690   447.016393    2.531876   \n",
       "         std     14.172110   31.388207    0.823166   260.640469    0.735805   \n",
       "         min      1.000000    0.000000    0.000000     1.000000    1.000000   \n",
       "         25%     21.000000    7.854200    0.000000   211.000000    2.000000   \n",
       "         50%     28.000000   10.500000    0.000000   455.000000    3.000000   \n",
       "         75%     39.000000   26.000000    0.000000   675.000000    3.000000   \n",
       "         max     74.000000  263.000000    6.000000   891.000000    3.000000   \n",
       "1        count  290.000000  342.000000  342.000000   342.000000  342.000000   \n",
       "         mean    28.343690   48.395408    0.464912   444.368421    1.950292   \n",
       "         std     14.950952   66.596998    0.771712   252.358840    0.863321   \n",
       "         min      0.420000    0.000000    0.000000     2.000000    1.000000   \n",
       "         25%     19.000000   12.475000    0.000000   250.750000    1.000000   \n",
       "         50%     28.000000   26.000000    0.000000   439.500000    2.000000   \n",
       "         75%     36.000000   57.000000    1.000000   651.500000    3.000000   \n",
       "         max     80.000000  512.329200    5.000000   890.000000    3.000000   \n",
       "\n",
       "                     SibSp  \n",
       "Survived                    \n",
       "0        count  549.000000  \n",
       "         mean     0.553734  \n",
       "         std      1.288399  \n",
       "         min      0.000000  \n",
       "         25%      0.000000  \n",
       "         50%      0.000000  \n",
       "         75%      1.000000  \n",
       "         max      8.000000  \n",
       "1        count  342.000000  \n",
       "         mean     0.473684  \n",
       "         std      0.708688  \n",
       "         min      0.000000  \n",
       "         25%      0.000000  \n",
       "         50%      0.000000  \n",
       "         75%      1.000000  \n",
       "         max      4.000000  "
      ]
     },
     "execution_count": 2,
     "metadata": {},
     "output_type": "execute_result"
    }
   ],
   "source": [
    "survival_group = titanic_data.groupby('Survived')\n",
    "\n",
    "survival_group.describe()"
   ]
  },
  {
   "cell_type": "markdown",
   "metadata": {},
   "source": [
    "It turns out that the mean age of survivors and non-survivors was very close. And with a standard deviation of about 14, the mean age for each group is well within one standard deviation of the other group, meaning that the difference in mean ages is not statistically significant.\n",
    "\n",
    "A look at the histograms of the ages of each group would also suggest that age did not seem to be a significant deciding factor:"
   ]
  },
  {
   "cell_type": "code",
   "execution_count": 3,
   "metadata": {
    "collapsed": true
   },
   "outputs": [],
   "source": [
    "def get_survived_non_survived(data, attrib):\n",
    "    '''Returns 2 Series of attrib data: one for survivors and one for non-survivors.\n",
    "    '''\n",
    "    # Uses .dropna() in order to clean data by leaving out NaNs\n",
    "    non_survived = data[data['Survived'] == 0][attrib].dropna()\n",
    "    survived = data[data['Survived'] == 1][attrib].dropna()\n",
    "    return non_survived, survived"
   ]
  },
  {
   "cell_type": "code",
   "execution_count": 4,
   "metadata": {
    "collapsed": false
   },
   "outputs": [
    {
     "data": {
      "text/plain": [
       "<matplotlib.text.Text at 0x1c3dc470>"
      ]
     },
     "execution_count": 4,
     "metadata": {},
     "output_type": "execute_result"
    },
    {
     "data": {
      "image/png": "[encoded data removed]",
      "text/plain": [
       "<matplotlib.figure.Figure at 0x1c2a18d0>"
      ]
     },
     "metadata": {},
     "output_type": "display_data"
    }
   ],
   "source": [
    "non_survived_ages, survived_ages = get_survived_non_survived(titanic_data, 'Age')\n",
    "\n",
    "plt.hist(survived_ages.values, bins=np.arange(0,100,10))\n",
    "plt.title('Ages of Survivors')\n",
    "plt.xlabel('Age')\n",
    "plt.ylabel('Count')"
   ]
  },
  {
   "cell_type": "code",
   "execution_count": 5,
   "metadata": {
    "collapsed": false
   },
   "outputs": [
    {
     "data": {
      "text/plain": [
       "<matplotlib.text.Text at 0x1c55e2e8>"
      ]
     },
     "execution_count": 5,
     "metadata": {},
     "output_type": "execute_result"
    },
    {
     "data": {
      "image/png": "[encoded data removed]",
      "text/plain": [
       "<matplotlib.figure.Figure at 0x1c459358>"
      ]
     },
     "metadata": {},
     "output_type": "display_data"
    }
   ],
   "source": [
    "plt.hist(non_survived_ages.values, facecolor='r', bins=np.arange(0,100,10))\n",
    "plt.title('Ages of Non-Survivors')\n",
    "plt.xlabel('Age')\n",
    "plt.ylabel('Count')"
   ]
  },
  {
   "cell_type": "markdown",
   "metadata": {},
   "source": [
    "### Gender\n",
    "Next is to look at weather gender played a role in survival. We will start with the statistics we saw before:"
   ]
  },
  {
   "cell_type": "code",
   "execution_count": 6,
   "metadata": {
    "collapsed": false
   },
   "outputs": [
    {
     "data": {
      "text/html": [
       "<div>\n",
       "<table border=\"1\" class=\"dataframe\">\n",
       "  <thead>\n",
       "    <tr style=\"text-align: right;\">\n",
       "      <th></th>\n",
       "      <th></th>\n",
       "      <th>Age</th>\n",
       "      <th>Fare</th>\n",
       "      <th>Parch</th>\n",
       "      <th>PassengerId</th>\n",
       "      <th>Pclass</th>\n",
       "      <th>SibSp</th>\n",
       "    </tr>\n",
       "    <tr>\n",
       "      <th>Survived</th>\n",
       "      <th></th>\n",
       "      <th></th>\n",
       "      <th></th>\n",
       "      <th></th>\n",
       "      <th></th>\n",
       "      <th></th>\n",
       "      <th></th>\n",
       "    </tr>\n",
       "  </thead>\n",
       "  <tbody>\n",
       "    <tr>\n",
       "      <th rowspan=\"8\" valign=\"top\">0</th>\n",
       "      <th>count</th>\n",
       "      <td>424.000000</td>\n",
       "      <td>549.000000</td>\n",
       "      <td>549.000000</td>\n",
       "      <td>549.000000</td>\n",
       "      <td>549.000000</td>\n",
       "      <td>549.000000</td>\n",
       "    </tr>\n",
       "    <tr>\n",
       "      <th>mean</th>\n",
       "      <td>30.626179</td>\n",
       "      <td>22.117887</td>\n",
       "      <td>0.329690</td>\n",
       "      <td>447.016393</td>\n",
       "      <td>2.531876</td>\n",
       "      <td>0.553734</td>\n",
       "    </tr>\n",
       "    <tr>\n",
       "      <th>std</th>\n",
       "      <td>14.172110</td>\n",
       "      <td>31.388207</td>\n",
       "      <td>0.823166</td>\n",
       "      <td>260.640469</td>\n",
       "      <td>0.735805</td>\n",
       "      <td>1.288399</td>\n",
       "    </tr>\n",
       "    <tr>\n",
       "      <th>min</th>\n",
       "      <td>1.000000</td>\n",
       "      <td>0.000000</td>\n",
       "      <td>0.000000</td>\n",
       "      <td>1.000000</td>\n",
       "      <td>1.000000</td>\n",
       "      <td>0.000000</td>\n",
       "    </tr>\n",
       "    <tr>\n",
       "      <th>25%</th>\n",
       "      <td>21.000000</td>\n",
       "      <td>7.854200</td>\n",
       "      <td>0.000000</td>\n",
       "      <td>211.000000</td>\n",
       "      <td>2.000000</td>\n",
       "      <td>0.000000</td>\n",
       "    </tr>\n",
       "    <tr>\n",
       "      <th>50%</th>\n",
       "      <td>28.000000</td>\n",
       "      <td>10.500000</td>\n",
       "      <td>0.000000</td>\n",
       "      <td>455.000000</td>\n",
       "      <td>3.000000</td>\n",
       "      <td>0.000000</td>\n",
       "    </tr>\n",
       "    <tr>\n",
       "      <th>75%</th>\n",
       "      <td>39.000000</td>\n",
       "      <td>26.000000</td>\n",
       "      <td>0.000000</td>\n",
       "      <td>675.000000</td>\n",
       "      <td>3.000000</td>\n",
       "      <td>1.000000</td>\n",
       "    </tr>\n",
       "    <tr>\n",
       "      <th>max</th>\n",
       "      <td>74.000000</td>\n",
       "      <td>263.000000</td>\n",
       "      <td>6.000000</td>\n",
       "      <td>891.000000</td>\n",
       "      <td>3.000000</td>\n",
       "      <td>8.000000</td>\n",
       "    </tr>\n",
       "    <tr>\n",
       "      <th rowspan=\"8\" valign=\"top\">1</th>\n",
       "      <th>count</th>\n",
       "      <td>290.000000</td>\n",
       "      <td>342.000000</td>\n",
       "      <td>342.000000</td>\n",
       "      <td>342.000000</td>\n",
       "      <td>342.000000</td>\n",
       "      <td>342.000000</td>\n",
       "    </tr>\n",
       "    <tr>\n",
       "      <th>mean</th>\n",
       "      <td>28.343690</td>\n",
       "      <td>48.395408</td>\n",
       "      <td>0.464912</td>\n",
       "      <td>444.368421</td>\n",
       "      <td>1.950292</td>\n",
       "      <td>0.473684</td>\n",
       "    </tr>\n",
       "    <tr>\n",
       "      <th>std</th>\n",
       "      <td>14.950952</td>\n",
       "      <td>66.596998</td>\n",
       "      <td>0.771712</td>\n",
       "      <td>252.358840</td>\n",
       "      <td>0.863321</td>\n",
       "      <td>0.708688</td>\n",
       "    </tr>\n",
       "    <tr>\n",
       "      <th>min</th>\n",
       "      <td>0.420000</td>\n",
       "      <td>0.000000</td>\n",
       "      <td>0.000000</td>\n",
       "      <td>2.000000</td>\n",
       "      <td>1.000000</td>\n",
       "      <td>0.000000</td>\n",
       "    </tr>\n",
       "    <tr>\n",
       "      <th>25%</th>\n",
       "      <td>19.000000</td>\n",
       "      <td>12.475000</td>\n",
       "      <td>0.000000</td>\n",
       "      <td>250.750000</td>\n",
       "      <td>1.000000</td>\n",
       "      <td>0.000000</td>\n",
       "    </tr>\n",
       "    <tr>\n",
       "      <th>50%</th>\n",
       "      <td>28.000000</td>\n",
       "      <td>26.000000</td>\n",
       "      <td>0.000000</td>\n",
       "      <td>439.500000</td>\n",
       "      <td>2.000000</td>\n",
       "      <td>0.000000</td>\n",
       "    </tr>\n",
       "    <tr>\n",
       "      <th>75%</th>\n",
       "      <td>36.000000</td>\n",
       "      <td>57.000000</td>\n",
       "      <td>1.000000</td>\n",
       "      <td>651.500000</td>\n",
       "      <td>3.000000</td>\n",
       "      <td>1.000000</td>\n",
       "    </tr>\n",
       "    <tr>\n",
       "      <th>max</th>\n",
       "      <td>80.000000</td>\n",
       "      <td>512.329200</td>\n",
       "      <td>5.000000</td>\n",
       "      <td>890.000000</td>\n",
       "      <td>3.000000</td>\n",
       "      <td>4.000000</td>\n",
       "    </tr>\n",
       "  </tbody>\n",
       "</table>\n",
       "</div>"
      ],
      "text/plain": [
       "                       Age        Fare       Parch  PassengerId      Pclass  \\\n",
       "Survived                                                                      \n",
       "0        count  424.000000  549.000000  549.000000   549.000000  549.000000   \n",
       "         mean    30.626179   22.117887    0.329690   447.016393    2.531876   \n",
       "         std     14.172110   31.388207    0.823166   260.640469    0.735805   \n",
       "         min      1.000000    0.000000    0.000000     1.000000    1.000000   \n",
       "         25%     21.000000    7.854200    0.000000   211.000000    2.000000   \n",
       "         50%     28.000000   10.500000    0.000000   455.000000    3.000000   \n",
       "         75%     39.000000   26.000000    0.000000   675.000000    3.000000   \n",
       "         max     74.000000  263.000000    6.000000   891.000000    3.000000   \n",
       "1        count  290.000000  342.000000  342.000000   342.000000  342.000000   \n",
       "         mean    28.343690   48.395408    0.464912   444.368421    1.950292   \n",
       "         std     14.950952   66.596998    0.771712   252.358840    0.863321   \n",
       "         min      0.420000    0.000000    0.000000     2.000000    1.000000   \n",
       "         25%     19.000000   12.475000    0.000000   250.750000    1.000000   \n",
       "         50%     28.000000   26.000000    0.000000   439.500000    2.000000   \n",
       "         75%     36.000000   57.000000    1.000000   651.500000    3.000000   \n",
       "         max     80.000000  512.329200    5.000000   890.000000    3.000000   \n",
       "\n",
       "                     SibSp  \n",
       "Survived                    \n",
       "0        count  549.000000  \n",
       "         mean     0.553734  \n",
       "         std      1.288399  \n",
       "         min      0.000000  \n",
       "         25%      0.000000  \n",
       "         50%      0.000000  \n",
       "         75%      1.000000  \n",
       "         max      8.000000  \n",
       "1        count  342.000000  \n",
       "         mean     0.473684  \n",
       "         std      0.708688  \n",
       "         min      0.000000  \n",
       "         25%      0.000000  \n",
       "         50%      0.000000  \n",
       "         75%      1.000000  \n",
       "         max      4.000000  "
      ]
     },
     "execution_count": 6,
     "metadata": {},
     "output_type": "execute_result"
    }
   ],
   "source": [
    "survival_group.describe()"
   ]
  },
  {
   "cell_type": "markdown",
   "metadata": {},
   "source": [
    "It looks like gender is not included in these statistics because the values for gender are all strings. Let's make sure we only have two values for gender and clean up the data if we find more."
   ]
  },
  {
   "cell_type": "code",
   "execution_count": 7,
   "metadata": {
    "collapsed": false
   },
   "outputs": [
    {
     "data": {
      "text/plain": [
       "array(['female', 'male'], dtype=object)"
      ]
     },
     "execution_count": 7,
     "metadata": {},
     "output_type": "execute_result"
    }
   ],
   "source": [
    "np.unique(titanic_data['Sex'].values)"
   ]
  },
  {
   "cell_type": "markdown",
   "metadata": {},
   "source": [
    "Next, we will group the data by both gender and survival and see what statistics we find."
   ]
  },
  {
   "cell_type": "code",
   "execution_count": 8,
   "metadata": {
    "collapsed": false
   },
   "outputs": [
    {
     "data": {
      "text/html": [
       "<div>\n",
       "<table border=\"1\" class=\"dataframe\">\n",
       "  <thead>\n",
       "    <tr style=\"text-align: right;\">\n",
       "      <th></th>\n",
       "      <th></th>\n",
       "      <th></th>\n",
       "      <th>Age</th>\n",
       "      <th>Fare</th>\n",
       "      <th>Parch</th>\n",
       "      <th>PassengerId</th>\n",
       "      <th>Pclass</th>\n",
       "      <th>SibSp</th>\n",
       "    </tr>\n",
       "    <tr>\n",
       "      <th>Survived</th>\n",
       "      <th>Sex</th>\n",
       "      <th></th>\n",
       "      <th></th>\n",
       "      <th></th>\n",
       "      <th></th>\n",
       "      <th></th>\n",
       "      <th></th>\n",
       "      <th></th>\n",
       "    </tr>\n",
       "  </thead>\n",
       "  <tbody>\n",
       "    <tr>\n",
       "      <th rowspan=\"16\" valign=\"top\">0</th>\n",
       "      <th rowspan=\"8\" valign=\"top\">female</th>\n",
       "      <th>count</th>\n",
       "      <td>64.000000</td>\n",
       "      <td>81.000000</td>\n",
       "      <td>81.000000</td>\n",
       "      <td>81.000000</td>\n",
       "      <td>81.000000</td>\n",
       "      <td>81.000000</td>\n",
       "    </tr>\n",
       "    <tr>\n",
       "      <th>mean</th>\n",
       "      <td>25.046875</td>\n",
       "      <td>23.024385</td>\n",
       "      <td>1.037037</td>\n",
       "      <td>434.851852</td>\n",
       "      <td>2.851852</td>\n",
       "      <td>1.209877</td>\n",
       "    </tr>\n",
       "    <tr>\n",
       "      <th>std</th>\n",
       "      <td>13.618591</td>\n",
       "      <td>24.821287</td>\n",
       "      <td>1.391442</td>\n",
       "      <td>263.522063</td>\n",
       "      <td>0.450309</td>\n",
       "      <td>1.814635</td>\n",
       "    </tr>\n",
       "    <tr>\n",
       "      <th>min</th>\n",
       "      <td>2.000000</td>\n",
       "      <td>6.750000</td>\n",
       "      <td>0.000000</td>\n",
       "      <td>15.000000</td>\n",
       "      <td>1.000000</td>\n",
       "      <td>0.000000</td>\n",
       "    </tr>\n",
       "    <tr>\n",
       "      <th>25%</th>\n",
       "      <td>16.750000</td>\n",
       "      <td>8.850000</td>\n",
       "      <td>0.000000</td>\n",
       "      <td>206.000000</td>\n",
       "      <td>3.000000</td>\n",
       "      <td>0.000000</td>\n",
       "    </tr>\n",
       "    <tr>\n",
       "      <th>50%</th>\n",
       "      <td>24.500000</td>\n",
       "      <td>15.245800</td>\n",
       "      <td>0.000000</td>\n",
       "      <td>420.000000</td>\n",
       "      <td>3.000000</td>\n",
       "      <td>1.000000</td>\n",
       "    </tr>\n",
       "    <tr>\n",
       "      <th>75%</th>\n",
       "      <td>33.250000</td>\n",
       "      <td>27.900000</td>\n",
       "      <td>2.000000</td>\n",
       "      <td>643.000000</td>\n",
       "      <td>3.000000</td>\n",
       "      <td>1.000000</td>\n",
       "    </tr>\n",
       "    <tr>\n",
       "      <th>max</th>\n",
       "      <td>57.000000</td>\n",
       "      <td>151.550000</td>\n",
       "      <td>6.000000</td>\n",
       "      <td>889.000000</td>\n",
       "      <td>3.000000</td>\n",
       "      <td>8.000000</td>\n",
       "    </tr>\n",
       "    <tr>\n",
       "      <th rowspan=\"8\" valign=\"top\">male</th>\n",
       "      <th>count</th>\n",
       "      <td>360.000000</td>\n",
       "      <td>468.000000</td>\n",
       "      <td>468.000000</td>\n",
       "      <td>468.000000</td>\n",
       "      <td>468.000000</td>\n",
       "      <td>468.000000</td>\n",
       "    </tr>\n",
       "    <tr>\n",
       "      <th>mean</th>\n",
       "      <td>31.618056</td>\n",
       "      <td>21.960993</td>\n",
       "      <td>0.207265</td>\n",
       "      <td>449.121795</td>\n",
       "      <td>2.476496</td>\n",
       "      <td>0.440171</td>\n",
       "    </tr>\n",
       "    <tr>\n",
       "      <th>std</th>\n",
       "      <td>14.056019</td>\n",
       "      <td>32.409799</td>\n",
       "      <td>0.601382</td>\n",
       "      <td>260.365260</td>\n",
       "      <td>0.761411</td>\n",
       "      <td>1.138507</td>\n",
       "    </tr>\n",
       "    <tr>\n",
       "      <th>min</th>\n",
       "      <td>1.000000</td>\n",
       "      <td>0.000000</td>\n",
       "      <td>0.000000</td>\n",
       "      <td>1.000000</td>\n",
       "      <td>1.000000</td>\n",
       "      <td>0.000000</td>\n",
       "    </tr>\n",
       "    <tr>\n",
       "      <th>25%</th>\n",
       "      <td>21.750000</td>\n",
       "      <td>7.795800</td>\n",
       "      <td>0.000000</td>\n",
       "      <td>212.500000</td>\n",
       "      <td>2.000000</td>\n",
       "      <td>0.000000</td>\n",
       "    </tr>\n",
       "    <tr>\n",
       "      <th>50%</th>\n",
       "      <td>29.000000</td>\n",
       "      <td>9.416650</td>\n",
       "      <td>0.000000</td>\n",
       "      <td>461.000000</td>\n",
       "      <td>3.000000</td>\n",
       "      <td>0.000000</td>\n",
       "    </tr>\n",
       "    <tr>\n",
       "      <th>75%</th>\n",
       "      <td>39.250000</td>\n",
       "      <td>26.000000</td>\n",
       "      <td>0.000000</td>\n",
       "      <td>678.500000</td>\n",
       "      <td>3.000000</td>\n",
       "      <td>0.000000</td>\n",
       "    </tr>\n",
       "    <tr>\n",
       "      <th>max</th>\n",
       "      <td>74.000000</td>\n",
       "      <td>263.000000</td>\n",
       "      <td>5.000000</td>\n",
       "      <td>891.000000</td>\n",
       "      <td>3.000000</td>\n",
       "      <td>8.000000</td>\n",
       "    </tr>\n",
       "    <tr>\n",
       "      <th rowspan=\"16\" valign=\"top\">1</th>\n",
       "      <th rowspan=\"8\" valign=\"top\">female</th>\n",
       "      <th>count</th>\n",
       "      <td>197.000000</td>\n",
       "      <td>233.000000</td>\n",
       "      <td>233.000000</td>\n",
       "      <td>233.000000</td>\n",
       "      <td>233.000000</td>\n",
       "      <td>233.000000</td>\n",
       "    </tr>\n",
       "    <tr>\n",
       "      <th>mean</th>\n",
       "      <td>28.847716</td>\n",
       "      <td>51.938573</td>\n",
       "      <td>0.515021</td>\n",
       "      <td>429.699571</td>\n",
       "      <td>1.918455</td>\n",
       "      <td>0.515021</td>\n",
       "    </tr>\n",
       "    <tr>\n",
       "      <th>std</th>\n",
       "      <td>14.175073</td>\n",
       "      <td>64.102256</td>\n",
       "      <td>0.820527</td>\n",
       "      <td>255.048296</td>\n",
       "      <td>0.834211</td>\n",
       "      <td>0.737533</td>\n",
       "    </tr>\n",
       "    <tr>\n",
       "      <th>min</th>\n",
       "      <td>0.750000</td>\n",
       "      <td>7.225000</td>\n",
       "      <td>0.000000</td>\n",
       "      <td>2.000000</td>\n",
       "      <td>1.000000</td>\n",
       "      <td>0.000000</td>\n",
       "    </tr>\n",
       "    <tr>\n",
       "      <th>25%</th>\n",
       "      <td>19.000000</td>\n",
       "      <td>13.000000</td>\n",
       "      <td>0.000000</td>\n",
       "      <td>238.000000</td>\n",
       "      <td>1.000000</td>\n",
       "      <td>0.000000</td>\n",
       "    </tr>\n",
       "    <tr>\n",
       "      <th>50%</th>\n",
       "      <td>28.000000</td>\n",
       "      <td>26.000000</td>\n",
       "      <td>0.000000</td>\n",
       "      <td>400.000000</td>\n",
       "      <td>2.000000</td>\n",
       "      <td>0.000000</td>\n",
       "    </tr>\n",
       "    <tr>\n",
       "      <th>75%</th>\n",
       "      <td>38.000000</td>\n",
       "      <td>76.291700</td>\n",
       "      <td>1.000000</td>\n",
       "      <td>636.000000</td>\n",
       "      <td>3.000000</td>\n",
       "      <td>1.000000</td>\n",
       "    </tr>\n",
       "    <tr>\n",
       "      <th>max</th>\n",
       "      <td>63.000000</td>\n",
       "      <td>512.329200</td>\n",
       "      <td>5.000000</td>\n",
       "      <td>888.000000</td>\n",
       "      <td>3.000000</td>\n",
       "      <td>4.000000</td>\n",
       "    </tr>\n",
       "    <tr>\n",
       "      <th rowspan=\"8\" valign=\"top\">male</th>\n",
       "      <th>count</th>\n",
       "      <td>93.000000</td>\n",
       "      <td>109.000000</td>\n",
       "      <td>109.000000</td>\n",
       "      <td>109.000000</td>\n",
       "      <td>109.000000</td>\n",
       "      <td>109.000000</td>\n",
       "    </tr>\n",
       "    <tr>\n",
       "      <th>mean</th>\n",
       "      <td>27.276022</td>\n",
       "      <td>40.821484</td>\n",
       "      <td>0.357798</td>\n",
       "      <td>475.724771</td>\n",
       "      <td>2.018349</td>\n",
       "      <td>0.385321</td>\n",
       "    </tr>\n",
       "    <tr>\n",
       "      <th>std</th>\n",
       "      <td>16.504803</td>\n",
       "      <td>71.355967</td>\n",
       "      <td>0.645826</td>\n",
       "      <td>244.717482</td>\n",
       "      <td>0.922774</td>\n",
       "      <td>0.636952</td>\n",
       "    </tr>\n",
       "    <tr>\n",
       "      <th>min</th>\n",
       "      <td>0.420000</td>\n",
       "      <td>0.000000</td>\n",
       "      <td>0.000000</td>\n",
       "      <td>18.000000</td>\n",
       "      <td>1.000000</td>\n",
       "      <td>0.000000</td>\n",
       "    </tr>\n",
       "    <tr>\n",
       "      <th>25%</th>\n",
       "      <td>18.000000</td>\n",
       "      <td>9.500000</td>\n",
       "      <td>0.000000</td>\n",
       "      <td>272.000000</td>\n",
       "      <td>1.000000</td>\n",
       "      <td>0.000000</td>\n",
       "    </tr>\n",
       "    <tr>\n",
       "      <th>50%</th>\n",
       "      <td>28.000000</td>\n",
       "      <td>26.287500</td>\n",
       "      <td>0.000000</td>\n",
       "      <td>508.000000</td>\n",
       "      <td>2.000000</td>\n",
       "      <td>0.000000</td>\n",
       "    </tr>\n",
       "    <tr>\n",
       "      <th>75%</th>\n",
       "      <td>36.000000</td>\n",
       "      <td>39.000000</td>\n",
       "      <td>1.000000</td>\n",
       "      <td>680.000000</td>\n",
       "      <td>3.000000</td>\n",
       "      <td>1.000000</td>\n",
       "    </tr>\n",
       "    <tr>\n",
       "      <th>max</th>\n",
       "      <td>80.000000</td>\n",
       "      <td>512.329200</td>\n",
       "      <td>2.000000</td>\n",
       "      <td>890.000000</td>\n",
       "      <td>3.000000</td>\n",
       "      <td>4.000000</td>\n",
       "    </tr>\n",
       "  </tbody>\n",
       "</table>\n",
       "</div>"
      ],
      "text/plain": [
       "                              Age        Fare       Parch  PassengerId  \\\n",
       "Survived Sex                                                             \n",
       "0        female count   64.000000   81.000000   81.000000    81.000000   \n",
       "                mean    25.046875   23.024385    1.037037   434.851852   \n",
       "                std     13.618591   24.821287    1.391442   263.522063   \n",
       "                min      2.000000    6.750000    0.000000    15.000000   \n",
       "                25%     16.750000    8.850000    0.000000   206.000000   \n",
       "                50%     24.500000   15.245800    0.000000   420.000000   \n",
       "                75%     33.250000   27.900000    2.000000   643.000000   \n",
       "                max     57.000000  151.550000    6.000000   889.000000   \n",
       "         male   count  360.000000  468.000000  468.000000   468.000000   \n",
       "                mean    31.618056   21.960993    0.207265   449.121795   \n",
       "                std     14.056019   32.409799    0.601382   260.365260   \n",
       "                min      1.000000    0.000000    0.000000     1.000000   \n",
       "                25%     21.750000    7.795800    0.000000   212.500000   \n",
       "                50%     29.000000    9.416650    0.000000   461.000000   \n",
       "                75%     39.250000   26.000000    0.000000   678.500000   \n",
       "                max     74.000000  263.000000    5.000000   891.000000   \n",
       "1        female count  197.000000  233.000000  233.000000   233.000000   \n",
       "                mean    28.847716   51.938573    0.515021   429.699571   \n",
       "                std     14.175073   64.102256    0.820527   255.048296   \n",
       "                min      0.750000    7.225000    0.000000     2.000000   \n",
       "                25%     19.000000   13.000000    0.000000   238.000000   \n",
       "                50%     28.000000   26.000000    0.000000   400.000000   \n",
       "                75%     38.000000   76.291700    1.000000   636.000000   \n",
       "                max     63.000000  512.329200    5.000000   888.000000   \n",
       "         male   count   93.000000  109.000000  109.000000   109.000000   \n",
       "                mean    27.276022   40.821484    0.357798   475.724771   \n",
       "                std     16.504803   71.355967    0.645826   244.717482   \n",
       "                min      0.420000    0.000000    0.000000    18.000000   \n",
       "                25%     18.000000    9.500000    0.000000   272.000000   \n",
       "                50%     28.000000   26.287500    0.000000   508.000000   \n",
       "                75%     36.000000   39.000000    1.000000   680.000000   \n",
       "                max     80.000000  512.329200    2.000000   890.000000   \n",
       "\n",
       "                           Pclass       SibSp  \n",
       "Survived Sex                                   \n",
       "0        female count   81.000000   81.000000  \n",
       "                mean     2.851852    1.209877  \n",
       "                std      0.450309    1.814635  \n",
       "                min      1.000000    0.000000  \n",
       "                25%      3.000000    0.000000  \n",
       "                50%      3.000000    1.000000  \n",
       "                75%      3.000000    1.000000  \n",
       "                max      3.000000    8.000000  \n",
       "         male   count  468.000000  468.000000  \n",
       "                mean     2.476496    0.440171  \n",
       "                std      0.761411    1.138507  \n",
       "                min      1.000000    0.000000  \n",
       "                25%      2.000000    0.000000  \n",
       "                50%      3.000000    0.000000  \n",
       "                75%      3.000000    0.000000  \n",
       "                max      3.000000    8.000000  \n",
       "1        female count  233.000000  233.000000  \n",
       "                mean     1.918455    0.515021  \n",
       "                std      0.834211    0.737533  \n",
       "                min      1.000000    0.000000  \n",
       "                25%      1.000000    0.000000  \n",
       "                50%      2.000000    0.000000  \n",
       "                75%      3.000000    1.000000  \n",
       "                max      3.000000    4.000000  \n",
       "         male   count  109.000000  109.000000  \n",
       "                mean     2.018349    0.385321  \n",
       "                std      0.922774    0.636952  \n",
       "                min      1.000000    0.000000  \n",
       "                25%      1.000000    0.000000  \n",
       "                50%      2.000000    0.000000  \n",
       "                75%      3.000000    1.000000  \n",
       "                max      3.000000    4.000000  "
      ]
     },
     "execution_count": 8,
     "metadata": {},
     "output_type": "execute_result"
    }
   ],
   "source": [
    "survival_gender_group = titanic_data.groupby(['Survived', 'Sex'])\n",
    "\n",
    "survival_gender_group.describe()"
   ]
  },
  {
   "cell_type": "markdown",
   "metadata": {},
   "source": [
    "Here we see that the male:female ratio for non-survivors was 468:81 and the male:female ratio for survivors was 109:233. Looking at it another way, 19% of males on the Titanic survived, while 74% of females survived. It definitely looks like gender played a role in survival! Just to make sure, let's do a more in-depth statistical analysis.\n",
    "#### Analysis\n",
    "The independent variable here is gender, and the dependent variable is survival.\n",
    "\n",
    "The null hypothesis for statistical analysis would be that there is no significant difference in survival between the genders. That is, $H_0: \\mu_f = \\mu_m$ or $H_0: \\mu_f - \\mu_m = 0$.\n",
    "\n",
    "The alternative hypothesis would be that there **is** a significant difference in survival between the genders. That is, $H_a: \\mu_f \\neq \\mu_m$ or $H_a: \\mu_f - \\mu_m \\neq 0$.\n",
    "\n",
    "For this analysis, I will use a non-directional (two-tailed) observational independent sample t-test. The test is non-directional because we are hypothesizing that there is a difference in survival based on gender, but we aren't specifying which gender is more likely to survive. It is an independent samples test because the observations are between subjects (male vs. female) as opposed to within subjects.\n",
    "\n",
    "Finally, I will use an alpha level of .05 (two-tailed) to determine statistical significance. In other words, I will consider the mean difference in survival between genders to be statistically significant if the probability of that difference happening by random chance is less than 5%.\n",
    "\n",
    "Let's begin with some descriptive statistics:"
   ]
  },
  {
   "cell_type": "code",
   "execution_count": 9,
   "metadata": {
    "collapsed": false
   },
   "outputs": [
    {
     "data": {
      "text/plain": [
       "Sex          \n",
       "female  count    314.000000\n",
       "        mean       0.742038\n",
       "        std        0.438211\n",
       "        min        0.000000\n",
       "        25%        0.000000\n",
       "        50%        1.000000\n",
       "        75%        1.000000\n",
       "        max        1.000000\n",
       "male    count    577.000000\n",
       "        mean       0.188908\n",
       "        std        0.391775\n",
       "        min        0.000000\n",
       "        25%        0.000000\n",
       "        50%        0.000000\n",
       "        75%        0.000000\n",
       "        max        1.000000\n",
       "dtype: float64"
      ]
     },
     "execution_count": 9,
     "metadata": {},
     "output_type": "execute_result"
    }
   ],
   "source": [
    "gender_survival = titanic_data.groupby('Sex')['Survived']\n",
    "\n",
    "gender_survival.describe()"
   ]
  },
  {
   "cell_type": "markdown",
   "metadata": {},
   "source": [
    "And some pie charts showing survival based on gender:"
   ]
  },
  {
   "cell_type": "code",
   "execution_count": 10,
   "metadata": {
    "collapsed": false
   },
   "outputs": [
    {
     "data": {
      "text/plain": [
       "<matplotlib.text.Text at 0x1c90a0b8>"
      ]
     },
     "execution_count": 10,
     "metadata": {},
     "output_type": "execute_result"
    },
    {
     "data": {
      "image/png": "[encoded data removed]",
      "text/plain": [
       "<matplotlib.figure.Figure at 0x1c778898>"
      ]
     },
     "metadata": {},
     "output_type": "display_data"
    }
   ],
   "source": [
    "# Males\n",
    "labels = 'Survived', 'Did Not Survive'\n",
    "sizes = [gender_survival.mean()['male'], 1.0 - gender_survival.mean()['male']]\n",
    "colors = ['lightskyblue', 'lightcoral']\n",
    "explode = (0.1, 0) # only \"explode\" survivors\n",
    "\n",
    "plt.pie(sizes, explode=explode, labels=labels, colors=colors, autopct='%1.1f%%')\n",
    "plt.axis('equal')\n",
    "plt.title('Male Survival on the Titanic')"
   ]
  },
  {
   "cell_type": "code",
   "execution_count": 11,
   "metadata": {
    "collapsed": false
   },
   "outputs": [
    {
     "data": {
      "text/plain": [
       "<matplotlib.text.Text at 0x1cc59a90>"
      ]
     },
     "execution_count": 11,
     "metadata": {},
     "output_type": "execute_result"
    },
    {
     "data": {
      "image/png": "[encoded data removed]",
      "text/plain": [
       "<matplotlib.figure.Figure at 0x1c2a1198>"
      ]
     },
     "metadata": {},
     "output_type": "display_data"
    }
   ],
   "source": [
    "# Females\n",
    "labels = 'Survived', 'Did Not Survive'\n",
    "sizes = [gender_survival.mean()['female'], 1.0 - gender_survival.mean()['female']]\n",
    "colors = ['lightskyblue', 'lightcoral']\n",
    "explode = (0.1, 0) # only \"explode\" survivors\n",
    "\n",
    "plt.pie(sizes, explode=explode, labels=labels, colors=colors, autopct='%1.1f%%')\n",
    "plt.axis('equal')\n",
    "plt.title('Female Survival on the Titanic')"
   ]
  },
  {
   "cell_type": "markdown",
   "metadata": {},
   "source": [
    "And now the statistical test:"
   ]
  },
  {
   "cell_type": "code",
   "execution_count": 12,
   "metadata": {
    "collapsed": false
   },
   "outputs": [
    {
     "data": {
      "text/plain": [
       "18.671833177259167"
      ]
     },
     "execution_count": 12,
     "metadata": {},
     "output_type": "execute_result"
    }
   ],
   "source": [
    "def get_indep_sample_t(groupA, groupB, groupedDataSeries):\n",
    "    '''Gets the t-statistic for an independent samples t-test.\n",
    "    groupA, groupB : strings corresponding to the groups in groupedDataSeries\n",
    "    groupedDataSeries : a pandas \"groupby\" Series\n",
    "    '''\n",
    "    mean_a = groupedDataSeries.mean()[groupA]\n",
    "    mean_b = groupedDataSeries.mean()[groupB]\n",
    "    var_a = groupedDataSeries.var()[groupA]\n",
    "    var_b = groupedDataSeries.var()[groupB]\n",
    "    n_a = groupedDataSeries.count()[groupA]\n",
    "    n_b = groupedDataSeries.count()[groupB]\n",
    "    \n",
    "    standard_error = np.sqrt(var_a/n_a + var_b/n_b)\n",
    "    \n",
    "    t_statistic = (mean_a - mean_b) / standard_error\n",
    "    return t_statistic\n",
    "\n",
    "get_indep_sample_t('female', 'male', gender_survival)"
   ]
  },
  {
   "cell_type": "code",
   "execution_count": 13,
   "metadata": {
    "collapsed": false
   },
   "outputs": [
    {
     "data": {
      "text/plain": [
       "889"
      ]
     },
     "execution_count": 13,
     "metadata": {},
     "output_type": "execute_result"
    }
   ],
   "source": [
    "def get_indep_sample_df(groupA, groupB, groupedDataSeries):\n",
    "    '''Gets the degrees of freedom for an independent samples t-test.\n",
    "    groupA, groupB : strings corresponding to the groups in groupedDataSeries\n",
    "    groupedDataSeries : a pandas \"groupby\" Series\n",
    "    '''\n",
    "    n_a = groupedDataSeries.count()[groupA]\n",
    "    n_b = groupedDataSeries.count()[groupB]\n",
    "    return n_a + n_b - 2\n",
    "\n",
    "get_indep_sample_df('female', 'male', gender_survival)"
   ]
  },
  {
   "cell_type": "markdown",
   "metadata": {},
   "source": [
    "Using the t-table here:\n",
    "https://s3.amazonaws.com/udacity-hosted-downloads/t-table.jpg\n",
    "\n",
    "Our df is 889, which is between the listed 100 and 1000 on the table. Just to be more conservative, I will use the t(100) critical value for a two-tailed test with an alpha level of .05, which is 1.984.\n",
    "\n",
    "The t-statistic we calculated above is 18.672, which is greater than the t-critical value of 1.984.\n",
    "\n",
    "Therefore, we can say with 95% confidence (based on our alpha level of .05) that gender made a difference in survival. (And in this case, a person was more likely to survive as a female than as a male).\n",
    "\n",
    "### Passenger Class\n",
    "\n",
    "Next, let's look at survival based on passenger class."
   ]
  },
  {
   "cell_type": "code",
   "execution_count": 14,
   "metadata": {
    "collapsed": false
   },
   "outputs": [
    {
     "data": {
      "text/plain": [
       "Pclass\n",
       "1    0.629630\n",
       "2    0.472826\n",
       "3    0.242363\n",
       "Name: Survived, dtype: float64"
      ]
     },
     "execution_count": 14,
     "metadata": {},
     "output_type": "execute_result"
    }
   ],
   "source": [
    "class_survival = titanic_data.groupby('Pclass')['Survived']\n",
    "class_survival.mean()"
   ]
  },
  {
   "cell_type": "markdown",
   "metadata": {},
   "source": [
    "Right away we can see that 63% of Class 1 passengers survived, 47% of Class 2 passengers survived, and 24% of Class 3 passengers survived. So, it looks like passenger class definitely was definitely correlated with survival, but let's do a closer analysis."
   ]
  },
  {
   "cell_type": "code",
   "execution_count": 15,
   "metadata": {
    "collapsed": false
   },
   "outputs": [
    {
     "data": {
      "text/html": [
       "<div>\n",
       "<table border=\"1\" class=\"dataframe\">\n",
       "  <thead>\n",
       "    <tr style=\"text-align: right;\">\n",
       "      <th></th>\n",
       "      <th>Pclass</th>\n",
       "      <th>Survived</th>\n",
       "      <th>PassengerId</th>\n",
       "      <th>Name</th>\n",
       "      <th>Sex</th>\n",
       "      <th>Age</th>\n",
       "      <th>SibSp</th>\n",
       "      <th>Parch</th>\n",
       "      <th>Ticket</th>\n",
       "      <th>Fare</th>\n",
       "      <th>Cabin</th>\n",
       "      <th>Embarked</th>\n",
       "    </tr>\n",
       "  </thead>\n",
       "  <tbody>\n",
       "    <tr>\n",
       "      <th>0</th>\n",
       "      <td>1</td>\n",
       "      <td>0</td>\n",
       "      <td>80</td>\n",
       "      <td>80</td>\n",
       "      <td>80</td>\n",
       "      <td>64</td>\n",
       "      <td>80</td>\n",
       "      <td>80</td>\n",
       "      <td>80</td>\n",
       "      <td>80</td>\n",
       "      <td>59</td>\n",
       "      <td>80</td>\n",
       "    </tr>\n",
       "    <tr>\n",
       "      <th>1</th>\n",
       "      <td>1</td>\n",
       "      <td>1</td>\n",
       "      <td>136</td>\n",
       "      <td>136</td>\n",
       "      <td>136</td>\n",
       "      <td>122</td>\n",
       "      <td>136</td>\n",
       "      <td>136</td>\n",
       "      <td>136</td>\n",
       "      <td>136</td>\n",
       "      <td>117</td>\n",
       "      <td>134</td>\n",
       "    </tr>\n",
       "    <tr>\n",
       "      <th>2</th>\n",
       "      <td>2</td>\n",
       "      <td>0</td>\n",
       "      <td>97</td>\n",
       "      <td>97</td>\n",
       "      <td>97</td>\n",
       "      <td>90</td>\n",
       "      <td>97</td>\n",
       "      <td>97</td>\n",
       "      <td>97</td>\n",
       "      <td>97</td>\n",
       "      <td>3</td>\n",
       "      <td>97</td>\n",
       "    </tr>\n",
       "    <tr>\n",
       "      <th>3</th>\n",
       "      <td>2</td>\n",
       "      <td>1</td>\n",
       "      <td>87</td>\n",
       "      <td>87</td>\n",
       "      <td>87</td>\n",
       "      <td>83</td>\n",
       "      <td>87</td>\n",
       "      <td>87</td>\n",
       "      <td>87</td>\n",
       "      <td>87</td>\n",
       "      <td>13</td>\n",
       "      <td>87</td>\n",
       "    </tr>\n",
       "    <tr>\n",
       "      <th>4</th>\n",
       "      <td>3</td>\n",
       "      <td>0</td>\n",
       "      <td>372</td>\n",
       "      <td>372</td>\n",
       "      <td>372</td>\n",
       "      <td>270</td>\n",
       "      <td>372</td>\n",
       "      <td>372</td>\n",
       "      <td>372</td>\n",
       "      <td>372</td>\n",
       "      <td>6</td>\n",
       "      <td>372</td>\n",
       "    </tr>\n",
       "    <tr>\n",
       "      <th>5</th>\n",
       "      <td>3</td>\n",
       "      <td>1</td>\n",
       "      <td>119</td>\n",
       "      <td>119</td>\n",
       "      <td>119</td>\n",
       "      <td>85</td>\n",
       "      <td>119</td>\n",
       "      <td>119</td>\n",
       "      <td>119</td>\n",
       "      <td>119</td>\n",
       "      <td>6</td>\n",
       "      <td>119</td>\n",
       "    </tr>\n",
       "  </tbody>\n",
       "</table>\n",
       "</div>"
      ],
      "text/plain": [
       "   Pclass  Survived  PassengerId  Name  Sex  Age  SibSp  Parch  Ticket  Fare  \\\n",
       "0       1         0           80    80   80   64     80     80      80    80   \n",
       "1       1         1          136   136  136  122    136    136     136   136   \n",
       "2       2         0           97    97   97   90     97     97      97    97   \n",
       "3       2         1           87    87   87   83     87     87      87    87   \n",
       "4       3         0          372   372  372  270    372    372     372   372   \n",
       "5       3         1          119   119  119   85    119    119     119   119   \n",
       "\n",
       "   Cabin  Embarked  \n",
       "0     59        80  \n",
       "1    117       134  \n",
       "2      3        97  \n",
       "3     13        87  \n",
       "4      6       372  \n",
       "5      6       119  "
      ]
     },
     "execution_count": 15,
     "metadata": {},
     "output_type": "execute_result"
    }
   ],
   "source": [
    "class_survival_counts = titanic_data.groupby(['Pclass', 'Survived'], as_index=False).count()\n",
    "class_survival_counts"
   ]
  },
  {
   "cell_type": "markdown",
   "metadata": {},
   "source": [
    "Looking at the counts, it seems that not all columns have complete data, but the PassengerId column looks complete, so we will use it for counting survivors in each passenger class. We will also rename the indices in order to keep track of what is what."
   ]
  },
  {
   "cell_type": "code",
   "execution_count": 16,
   "metadata": {
    "collapsed": false
   },
   "outputs": [
    {
     "data": {
      "text/html": [
       "<div>\n",
       "<table border=\"1\" class=\"dataframe\">\n",
       "  <thead>\n",
       "    <tr style=\"text-align: right;\">\n",
       "      <th></th>\n",
       "      <th>Pclass</th>\n",
       "      <th>Survived</th>\n",
       "      <th>PassengerId</th>\n",
       "    </tr>\n",
       "  </thead>\n",
       "  <tbody>\n",
       "    <tr>\n",
       "      <th>Class 1 Non-Survivors</th>\n",
       "      <td>1</td>\n",
       "      <td>0</td>\n",
       "      <td>80</td>\n",
       "    </tr>\n",
       "    <tr>\n",
       "      <th>Class 1 Survivors</th>\n",
       "      <td>1</td>\n",
       "      <td>1</td>\n",
       "      <td>136</td>\n",
       "    </tr>\n",
       "    <tr>\n",
       "      <th>Class 2 Non-Survivors</th>\n",
       "      <td>2</td>\n",
       "      <td>0</td>\n",
       "      <td>97</td>\n",
       "    </tr>\n",
       "    <tr>\n",
       "      <th>Class 2 Survivors</th>\n",
       "      <td>2</td>\n",
       "      <td>1</td>\n",
       "      <td>87</td>\n",
       "    </tr>\n",
       "    <tr>\n",
       "      <th>Class 3 Non-Survivors</th>\n",
       "      <td>3</td>\n",
       "      <td>0</td>\n",
       "      <td>372</td>\n",
       "    </tr>\n",
       "    <tr>\n",
       "      <th>Class 3 Survivors</th>\n",
       "      <td>3</td>\n",
       "      <td>1</td>\n",
       "      <td>119</td>\n",
       "    </tr>\n",
       "  </tbody>\n",
       "</table>\n",
       "</div>"
      ],
      "text/plain": [
       "                       Pclass  Survived  PassengerId\n",
       "Class 1 Non-Survivors       1         0           80\n",
       "Class 1 Survivors           1         1          136\n",
       "Class 2 Non-Survivors       2         0           97\n",
       "Class 2 Survivors           2         1           87\n",
       "Class 3 Non-Survivors       3         0          372\n",
       "Class 3 Survivors           3         1          119"
      ]
     },
     "execution_count": 16,
     "metadata": {},
     "output_type": "execute_result"
    }
   ],
   "source": [
    "class_survival_counts = class_survival_counts.rename(index={\n",
    "        0:'Class 1 Non-Survivors',\n",
    "        1:'Class 1 Survivors',\n",
    "        2:'Class 2 Non-Survivors',\n",
    "        3:'Class 2 Survivors',\n",
    "        4:'Class 3 Non-Survivors',\n",
    "        5:'Class 3 Survivors',\n",
    "    })[['Pclass','Survived','PassengerId']]\n",
    "class_survival_counts"
   ]
  },
  {
   "cell_type": "code",
   "execution_count": 17,
   "metadata": {
    "collapsed": false
   },
   "outputs": [
    {
     "data": {
      "text/plain": [
       "Class 1 Survivors    0.397661\n",
       "Class 2 Survivors    0.254386\n",
       "Class 3 Survivors    0.347953\n",
       "Name: PassengerId, dtype: float64"
      ]
     },
     "execution_count": 17,
     "metadata": {},
     "output_type": "execute_result"
    }
   ],
   "source": [
    "non_survived_class_counts = class_survival_counts[class_survival_counts['Survived'] == 0]['PassengerId']\n",
    "survived_class_counts = class_survival_counts[class_survival_counts['Survived'] == 1]['PassengerId']\n",
    "non_survived_class_percents = non_survived_class_counts / non_survived_class_counts.sum()\n",
    "survived_class_percents = survived_class_counts / survived_class_counts.sum()\n",
    "survived_class_percents"
   ]
  },
  {
   "cell_type": "code",
   "execution_count": 18,
   "metadata": {
    "collapsed": false
   },
   "outputs": [
    {
     "data": {
      "text/plain": [
       "<matplotlib.text.Text at 0x1f3c4a58>"
      ]
     },
     "execution_count": 18,
     "metadata": {},
     "output_type": "execute_result"
    },
    {
     "data": {
      "image/png": "[encoded data removed]",
      "text/plain": [
       "<matplotlib.figure.Figure at 0x1cb2da58>"
      ]
     },
     "metadata": {},
     "output_type": "display_data"
    }
   ],
   "source": [
    "# 2 pie charts (suvived, died) with 3 pieces of pie (class 1, 2, 3)\n",
    "# Survivor class pie chart\n",
    "labels = 'First Class', 'Second Class', 'Third Class'\n",
    "sizes = [survived_class_percents.iloc[0],survived_class_percents.iloc[1],survived_class_percents.iloc[2]]\n",
    "colors = ['lightskyblue', 'lightcoral', 'gold']\n",
    "#explode = (0.1, 0.1, 0.1)\n",
    "\n",
    "plt.pie(sizes, labels=labels, colors=colors, autopct='%1.1f%%')\n",
    "plt.axis('equal')\n",
    "plt.title('Passenger Classes of Titanic Survivors', y=1.08)"
   ]
  },
  {
   "cell_type": "code",
   "execution_count": 19,
   "metadata": {
    "collapsed": false
   },
   "outputs": [
    {
     "data": {
      "text/plain": [
       "<matplotlib.text.Text at 0x1f4aa358>"
      ]
     },
     "execution_count": 19,
     "metadata": {},
     "output_type": "execute_result"
    },
    {
     "data": {
      "image/png": "[encoded data removed]",
      "text/plain": [
       "<matplotlib.figure.Figure at 0x1cab17f0>"
      ]
     },
     "metadata": {},
     "output_type": "display_data"
    }
   ],
   "source": [
    "# Non survivor class pie chart\n",
    "labels = 'First Class', 'Second Class', 'Third Class'\n",
    "sizes = [non_survived_class_percents.iloc[0],non_survived_class_percents.iloc[1],non_survived_class_percents.iloc[2]]\n",
    "colors = ['lightskyblue', 'lightcoral', 'gold']\n",
    "#explode = (0.1, 0.1, 0.1)\n",
    "\n",
    "plt.pie(sizes, labels=labels, colors=colors, autopct='%1.1f%%')\n",
    "plt.axis('equal')\n",
    "plt.title('Passenger Classes of Titanic Non-Survivors', y=1.08)"
   ]
  },
  {
   "cell_type": "markdown",
   "metadata": {
    "collapsed": true
   },
   "source": [
    "It is interesting to see that of the survivors, it appears that there is roughly equal representation from each passenger class, but when looked at from a different angle such as percentage of passengers of each class that survived, first class clearly comes out ahead.\n",
    "\n",
    "## Conclusion and Discussion of Limitations\n",
    "So, of the three factors I analyzed (age, gender, and passenger class), age seemed to have the least correlation with survival, while gender and passenger class were definitely linked to survival. Based on this analysis, it would seem that the group most likely to survive would be first class female passengers. So, I suppose the movie *Titanic* was accurate with Rose surviving and Jack not making it.\n",
    "\n",
    "There are also some limitations on the data that should be noted.\n",
    "\n",
    "First, this data set has entries for 891 passengers on the Titanic. However, according to [Wikipedia](https://en.wikipedia.org/wiki/RMS_Titanic), there were 2,224 total passengers and crew. The Kaggle website where the data comes from doesn't give any details as to how the 891 entries were chosen, why the rest are left out, etc. I am assuming that the 891 entries are a random sample and are therefore representative of the 2,224 total.\n",
    "\n",
    "Next, of the data available, the age data was incomplete. In order to deal with this, I just omitted entries without an age field from consideration. This resulted in a slightly smaller data set which may be less representative of the whole. Alternatively, I could have just filled in the missing values with the mean or median age, for example, and that would result in a larger data set to analyze, but it would introduce values that are most likely erronious to the set.\n",
    "\n",
    "Finally, more data could have been helpful. For example, one area that would have been interesting to take a closer look at could have been the number of people onboard that each passenger had close relationships with. Were people with a larger onboard network more likely to survive than lone passengers? The data description from Kaggle says that \"family relatives excluded from this study include cousins, nephews/nieces, aunts/uncles, and in-laws.  Some children travelled only with a nanny, therefore parch=0 for them.  As well, some travelled with very close friends or neighbors in a village, however, the definitions do not support such relations.\" So, you may be able to get an idea of whether people with more direct relatives onboard were more likely to survive, but I feel that that would present a rather incomplete view as I imagine there were many people who may not have been directly related to anyone else onboard, but who were otherwise closely anquainted with several other passengers."
   ]
  },
  {
   "cell_type": "code",
   "execution_count": null,
   "metadata": {
    "collapsed": true
   },
   "outputs": [],
   "source": []
  }
 ],
 "metadata": {
  "kernelspec": {
   "display_name": "Python 2",
   "language": "python",
   "name": "python2"
  },
  "language_info": {
   "codemirror_mode": {
    "name": "ipython",
    "version": 2
   },
   "file_extension": ".py",
   "mimetype": "text/x-python",
   "name": "python",
   "nbconvert_exporter": "python",
   "pygments_lexer": "ipython2",
   "version": "2.7.11"
  }
 },
 "nbformat": 4,
 "nbformat_minor": 0
}
